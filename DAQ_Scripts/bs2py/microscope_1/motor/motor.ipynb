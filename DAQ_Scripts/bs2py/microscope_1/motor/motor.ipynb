{
 "cells": [
  {
   "cell_type": "code",
   "execution_count": 18,
   "metadata": {},
   "outputs": [],
   "source": []
  },
  {
   "cell_type": "code",
   "execution_count": 19,
   "metadata": {},
   "outputs": [],
   "source": [
    "import serial\n",
    "ser = serial.Serial('COM5', 9600,timeout=1)\n",
    "#Change this port based on the USB port used for connecting Arduino\n",
    "#The port's name can be checked in the Device Manager\n",
    "\n",
    "def motor(action):\n",
    "    if (type(action) == int):\n",
    "        #Mode = 1 :\n",
    "        #Mode = 2 :\n",
    "        #Mode = 3 :\n",
    "        #Mode = 4 : \n",
    "        #Mode = -1 : Intermediate\n",
    "        #Mode = 0 : No action\n",
    "        ser.write(b'%a' % action)\n",
    "        \n",
    "    elif (action == 'reset'):\n",
    "        ser.close()\n",
    "        ser.open()\n",
    "    \n",
    "    elif (action == 'close'):\n",
    "        ser.close()\n",
    "\n",
    "# motor(mode_number) for selecting mode\n",
    "# motor('reset') for resetting the motor's connection\n",
    "# motor('close') for closing the connection with motor"
   ]
  },
  {
   "cell_type": "code",
   "execution_count": 24,
   "metadata": {},
   "outputs": [],
   "source": [
    "motor('close')"
   ]
  },
  {
   "cell_type": "code",
   "execution_count": null,
   "metadata": {},
   "outputs": [],
   "source": []
  },
  {
   "cell_type": "code",
   "execution_count": null,
   "metadata": {},
   "outputs": [],
   "source": []
  },
  {
   "cell_type": "code",
   "execution_count": null,
   "metadata": {},
   "outputs": [],
   "source": []
  },
  {
   "cell_type": "code",
   "execution_count": null,
   "metadata": {},
   "outputs": [],
   "source": []
  },
  {
   "cell_type": "code",
   "execution_count": null,
   "metadata": {},
   "outputs": [],
   "source": []
  }
 ],
 "metadata": {
  "kernelspec": {
   "display_name": "Python 3",
   "language": "python",
   "name": "python3"
  },
  "language_info": {
   "codemirror_mode": {
    "name": "ipython",
    "version": 3
   },
   "file_extension": ".py",
   "mimetype": "text/x-python",
   "name": "python",
   "nbconvert_exporter": "python",
   "pygments_lexer": "ipython3",
   "version": "3.7.3"
  }
 },
 "nbformat": 4,
 "nbformat_minor": 2
}
